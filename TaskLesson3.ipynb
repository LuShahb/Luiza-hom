{
 "cells": [
  {
   "cell_type": "code",
   "execution_count": 11,
   "metadata": {},
   "outputs": [
    {
     "name": "stdout",
     "output_type": "stream",
     "text": [
      "course: Intro to Python\n",
      "student: Luiza Shahbazyan\n",
      "nickname: PyExpert\n",
      "50\n",
      "False\n"
     ]
    }
   ],
   "source": [
    "course = \"Intro to Python\"\n",
    "student = (\"Luiza Shahbazyan\")\n",
    "nickname = (\"PyExpert\")\n",
    "grade = 50\n",
    "pythonExpert = False\n",
    "\n",
    "print(\"course: \" + course)\n",
    "print(\"student: \" + student)\n",
    "print(\"nickname: \" + nickname)\n",
    "print(grade)\n",
    "print(pythonExpert)\n"
   ]
  },
  {
   "cell_type": "code",
   "execution_count": 8,
   "metadata": {},
   "outputs": [
    {
     "name": "stdout",
     "output_type": "stream",
     "text": [
      "Intro to Python Luiza Shahbazyan PyExpert 50 False\n"
     ]
    }
   ],
   "source": [
    "course, student, nikname, grade, pythonExpert = [\"Intro to Python\", \"Luiza Shahbazyan\", \"PyExpert\", 50, False]\n",
    "print(course, student, nikname, grade, pythonExpert)"
   ]
  },
  {
   "cell_type": "code",
   "execution_count": 20,
   "metadata": {},
   "outputs": [
    {
     "name": "stdout",
     "output_type": "stream",
     "text": [
      "5.0\n"
     ]
    }
   ],
   "source": [
    "import math\n",
    "AB = 3\n",
    "AC = 4\n",
    "BC = math.sqrt(AB**2 + AC**2)\n",
    "print(BC)\n"
   ]
  },
  {
   "cell_type": "code",
   "execution_count": null,
   "metadata": {},
   "outputs": [],
   "source": []
  }
 ],
 "metadata": {
  "kernelspec": {
   "display_name": "Python 3",
   "language": "python",
   "name": "python3"
  },
  "language_info": {
   "codemirror_mode": {
    "name": "ipython",
    "version": 3
   },
   "file_extension": ".py",
   "mimetype": "text/x-python",
   "name": "python",
   "nbconvert_exporter": "python",
   "pygments_lexer": "ipython3",
   "version": "3.6.4"
  }
 },
 "nbformat": 4,
 "nbformat_minor": 2
}
