{
 "cells": [
  {
   "cell_type": "code",
   "execution_count": 8,
   "metadata": {},
   "outputs": [
    {
     "name": "stdout",
     "output_type": "stream",
     "text": [
      "course:  Intro to Python\n",
      "student:  Luiza Shahbazyan\n",
      "nickname:  PyExpert\n",
      "grade:  50\n",
      "pythonExpert:  False\n"
     ]
    }
   ],
   "source": [
    "course = \"Intro to Python\"\n",
    "student = (\"Luiza Shahbazyan\")\n",
    "nickname = (\"PyExpert\")\n",
    "grade = 50\n",
    "pythonExpert = False\n",
    "\n",
    "print(\"course: \", course)\n",
    "print(\"student: \", student)\n",
    "print(\"nickname: \", nickname)\n",
    "print(\"grade: \", grade)\n",
    "print(\"pythonExpert: \", pythonExpert)\n"
   ]
  },
  {
   "cell_type": "code",
   "execution_count": 8,
   "metadata": {},
   "outputs": [
    {
     "name": "stdout",
     "output_type": "stream",
     "text": [
      "Intro to Python Luiza Shahbazyan PyExpert 50 False\n"
     ]
    }
   ],
   "source": [
    "course, student, nikname, grade, pythonExpert = [\"Intro to Python\", \"Luiza Shahbazyan\", \"PyExpert\", 50, False]\n",
    "print(course, student, nikname, grade, pythonExpert)"
   ]
  },
  {
   "cell_type": "code",
   "execution_count": 2,
   "metadata": {},
   "outputs": [
    {
     "name": "stdout",
     "output_type": "stream",
     "text": [
      "5\n"
     ]
    }
   ],
   "source": [
    "import math\n",
    "AB = 3\n",
    "AC = 4\n",
    "BC = int(math.sqrt(AB**2 + AC**2))\n",
    "print(BC)\n",
    "\n"
   ]
  },
  {
   "cell_type": "code",
   "execution_count": 11,
   "metadata": {},
   "outputs": [
    {
     "name": "stdout",
     "output_type": "stream",
     "text": [
      "Date and time today:  2018-09-19 00:37:27.672105\n",
      "Date and time now:  2018-09-19 00:37:27.672104\n"
     ]
    }
   ],
   "source": [
    "import datetime\n",
    "dt_today = datetime.datetime.today()\n",
    "dt_now = datetime.datetime.now()\n",
    "print(\"Date and time today: \", dt_today)\n",
    "print(\"Date and time now: \", dt_now)\n"
   ]
  },
  {
   "cell_type": "code",
   "execution_count": 16,
   "metadata": {},
   "outputs": [
    {
     "name": "stdout",
     "output_type": "stream",
     "text": [
      "Year:  2018\n",
      "Month:  9\n",
      "Day:  19\n",
      "Day of the week (version1):  3\n",
      "Day of the week (version2):  2\n"
     ]
    }
   ],
   "source": [
    "tday = datetime.date.today()\n",
    "print(\"Year: \", tday.year)\n",
    "print(\"Month: \", tday.month)\n",
    "print(\"Day: \", tday.day)\n",
    "print(\"Day of the week (version1): \", tday.isoweekday())\n",
    "print(\"Day of the week (version2): \", tday.weekday())\n"
   ]
  },
  {
   "cell_type": "code",
   "execution_count": 19,
   "metadata": {},
   "outputs": [
    {
     "name": "stdout",
     "output_type": "stream",
     "text": [
      "Date today:  2018-09-19 01:04:38.768409\n",
      "5 days, 0:00:00\n",
      "Date today - 5 days:  2018-09-14 01:04:38.768409\n"
     ]
    }
   ],
   "source": [
    "tday = datetime.datetime.today()\n",
    "print(\"Date today: \", tday)\n",
    "tdelta = datetime.timedelta(days = 5)\n",
    "print(tdelta)\n",
    "print(\"Date today - 5 days: \", tday - tdelta)\n"
   ]
  },
  {
   "cell_type": "code",
   "execution_count": 22,
   "metadata": {},
   "outputs": [
    {
     "name": "stdout",
     "output_type": "stream",
     "text": [
      "Datetime now:  2018-09-19 01:09:12.527219\n",
      "0:00:05\n",
      "Datetime now + 5 seconds:  2018-09-19 01:09:17.527219\n"
     ]
    }
   ],
   "source": [
    "tday = datetime.datetime.now()\n",
    "print(\"Datetime now: \", tday)\n",
    "tdelta = datetime.timedelta(seconds = 5)\n",
    "print(tdelta)\n",
    "print(\"Datetime now + 5 seconds: \", tday + tdelta)"
   ]
  },
  {
   "cell_type": "code",
   "execution_count": 4,
   "metadata": {},
   "outputs": [
    {
     "name": "stdout",
     "output_type": "stream",
     "text": [
      "Datetime now:  2018-09-19 01:28:32.231347\n",
      "Date today - 10 days:  2018-09-09 01:28:32.231347\n",
      "Day of the week (version2):  2\n",
      "Day of the week (version2) - 10 days:  2018-09-09 01:28:32.231347\n"
     ]
    }
   ],
   "source": [
    "import datetime\n",
    "tday = datetime.datetime.now()\n",
    "print(\"Datetime now: \", tday)\n",
    "tdelta = datetime.timedelta(days = 10)\n",
    "print(\"Date today - 10 days: \", tday - tdelta)\n",
    "print(\"Day of the week (version2): \", tday.weekday())\n",
    "print(\"Day of the week (version2) - 10 days: \", tday - tdelta)\n"
   ]
  },
  {
   "cell_type": "code",
   "execution_count": null,
   "metadata": {},
   "outputs": [],
   "source": []
  }
 ],
 "metadata": {
  "kernelspec": {
   "display_name": "Python 3",
   "language": "python",
   "name": "python3"
  },
  "language_info": {
   "codemirror_mode": {
    "name": "ipython",
    "version": 3
   },
   "file_extension": ".py",
   "mimetype": "text/x-python",
   "name": "python",
   "nbconvert_exporter": "python",
   "pygments_lexer": "ipython3",
   "version": "3.6.5"
  }
 },
 "nbformat": 4,
 "nbformat_minor": 2
}
